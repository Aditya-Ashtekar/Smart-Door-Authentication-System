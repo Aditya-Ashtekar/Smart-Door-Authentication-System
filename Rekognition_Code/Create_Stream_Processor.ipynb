{
  "nbformat": 4,
  "nbformat_minor": 0,
  "metadata": {
    "colab": {
      "name": "Create Stream Processor.ipynb",
      "provenance": []
    },
    "kernelspec": {
      "name": "python3",
      "display_name": "Python 3"
    }
  },
  "cells": [
    {
      "cell_type": "code",
      "metadata": {
        "id": "vAoVYD9VnVhJ",
        "outputId": "a62ae6ce-8852-4c6f-cfdd-6bb01057c74f",
        "colab": {
          "base_uri": "https://localhost:8080/"
        }
      },
      "source": [
        "!pip install boto3\n",
        "import boto3"
      ],
      "execution_count": null,
      "outputs": [
        {
          "output_type": "stream",
          "text": [
            "Collecting boto3\n",
            "\u001b[?25l  Downloading https://files.pythonhosted.org/packages/77/69/a6e0987f4cc6aa6519c2f3db1916aeb4891bd326ed8688319d98ff009f93/boto3-1.16.10-py2.py3-none-any.whl (129kB)\n",
            "\u001b[K     |████████████████████████████████| 133kB 2.7MB/s \n",
            "\u001b[?25hCollecting botocore<1.20.0,>=1.19.10\n",
            "\u001b[?25l  Downloading https://files.pythonhosted.org/packages/50/11/765dce0f69eb6f6db6a189e1848f553575a0189b24bd059eaa24fd9e003d/botocore-1.19.10-py2.py3-none-any.whl (6.7MB)\n",
            "\u001b[K     |████████████████████████████████| 6.7MB 7.6MB/s \n",
            "\u001b[?25hCollecting s3transfer<0.4.0,>=0.3.0\n",
            "\u001b[?25l  Downloading https://files.pythonhosted.org/packages/69/79/e6afb3d8b0b4e96cefbdc690f741d7dd24547ff1f94240c997a26fa908d3/s3transfer-0.3.3-py2.py3-none-any.whl (69kB)\n",
            "\u001b[K     |████████████████████████████████| 71kB 6.5MB/s \n",
            "\u001b[?25hCollecting jmespath<1.0.0,>=0.7.1\n",
            "  Downloading https://files.pythonhosted.org/packages/07/cb/5f001272b6faeb23c1c9e0acc04d48eaaf5c862c17709d20e3469c6e0139/jmespath-0.10.0-py2.py3-none-any.whl\n",
            "Collecting urllib3<1.26,>=1.25.4; python_version != \"3.4\"\n",
            "\u001b[?25l  Downloading https://files.pythonhosted.org/packages/56/aa/4ef5aa67a9a62505db124a5cb5262332d1d4153462eb8fd89c9fa41e5d92/urllib3-1.25.11-py2.py3-none-any.whl (127kB)\n",
            "\u001b[K     |████████████████████████████████| 133kB 34.1MB/s \n",
            "\u001b[?25hRequirement already satisfied: python-dateutil<3.0.0,>=2.1 in /usr/local/lib/python3.6/dist-packages (from botocore<1.20.0,>=1.19.10->boto3) (2.8.1)\n",
            "Requirement already satisfied: six>=1.5 in /usr/local/lib/python3.6/dist-packages (from python-dateutil<3.0.0,>=2.1->botocore<1.20.0,>=1.19.10->boto3) (1.15.0)\n",
            "\u001b[31mERROR: datascience 0.10.6 has requirement folium==0.2.1, but you'll have folium 0.8.3 which is incompatible.\u001b[0m\n",
            "Installing collected packages: urllib3, jmespath, botocore, s3transfer, boto3\n",
            "  Found existing installation: urllib3 1.24.3\n",
            "    Uninstalling urllib3-1.24.3:\n",
            "      Successfully uninstalled urllib3-1.24.3\n",
            "Successfully installed boto3-1.16.10 botocore-1.19.10 jmespath-0.10.0 s3transfer-0.3.3 urllib3-1.25.11\n"
          ],
          "name": "stdout"
        }
      ]
    },
    {
      "cell_type": "code",
      "metadata": {
        "id": "_PATsz7PnbWi",
        "outputId": "c7e2d367-9d12-4e1d-bb5e-c66680aee30e",
        "colab": {
          "base_uri": "https://localhost:8080/"
        }
      },
      "source": [
        "import boto3\n",
        "\n",
        "aws_access_key_id = '' \n",
        "aws_secret_access_key = ''\n",
        "kds_arn = 'arn:aws:kinesis:us-east-1:673982206489:stream/KDS1'\n",
        "kvs_arn = 'arn:aws:kinesisvideo:us-east-1:673982206489:stream/KVS1/1604251387620'\n",
        "iam_arn = 'arn:aws:iam::673982206489:role/Rekognition'\n",
        "collection_id = 'collection1'\n",
        "\n",
        "client = boto3.client('rekognition', region_name='us-east-1',\n",
        "              aws_access_key_id = aws_access_key_id,\n",
        "              aws_secret_access_key = aws_secret_access_key)\n",
        "\n",
        "def create_stream_processor():\n",
        "\n",
        "  input_dict = {\n",
        "      \"KinesisVideoStream\": {\n",
        "        \"Arn\": kvs_arn\n",
        "      }\n",
        "      }\n",
        "  output_dict = {\n",
        "            \"KinesisDataStream\": {\n",
        "              \"Arn\": kds_arn\n",
        "        }\n",
        "          }\n",
        "  settings_dict = {\n",
        "      \"FaceSearch\": {\n",
        "        \"CollectionId\": collection_id,\n",
        "        \"FaceMatchThreshold\": 80.0\n",
        "      }\n",
        "      }\n",
        "  \n",
        "  response = client.create_stream_processor(Input=input_dict, Output=output_dict, Name=\"StreamProcessor1\", Settings=settings_dict, RoleArn=iam_arn)\n",
        "  print(response)\n",
        "\n",
        "\n",
        "create_stream_processor()"
      ],
      "execution_count": null,
      "outputs": [
        {
          "output_type": "stream",
          "text": [
            "{'StreamProcessorArn': 'arn:aws:rekognition:us-east-1:673982206489:streamprocessor/StreamProcessor1', 'ResponseMetadata': {'RequestId': 'aead3a97-c96f-4dda-a92c-c228b701c9df', 'HTTPStatusCode': 200, 'HTTPHeaders': {'content-type': 'application/x-amz-json-1.1', 'date': 'Tue, 03 Nov 2020 23:39:47 GMT', 'x-amzn-requestid': 'aead3a97-c96f-4dda-a92c-c228b701c9df', 'content-length': '100', 'connection': 'keep-alive'}, 'RetryAttempts': 0}}\n"
          ],
          "name": "stdout"
        }
      ]
    },
    {
      "cell_type": "code",
      "metadata": {
        "id": "lpCkWi8ZeyMu"
      },
      "source": [
        "response = client.start_stream_processor(Name='StreamProcessor1')"
      ],
      "execution_count": null,
      "outputs": []
    },
    {
      "cell_type": "code",
      "metadata": {
        "id": "o1MC1aTMj_2D",
        "outputId": "27bbfbe4-e57d-4dfd-952c-6e0e28f30b88",
        "colab": {
          "base_uri": "https://localhost:8080/"
        }
      },
      "source": [
        "response"
      ],
      "execution_count": null,
      "outputs": [
        {
          "output_type": "execute_result",
          "data": {
            "text/plain": [
              "{'ResponseMetadata': {'HTTPHeaders': {'connection': 'keep-alive',\n",
              "   'content-length': '2',\n",
              "   'content-type': 'application/x-amz-json-1.1',\n",
              "   'date': 'Wed, 04 Nov 2020 00:02:34 GMT',\n",
              "   'x-amzn-requestid': 'a0b6dfcf-e584-4942-8bb0-24afe0fe8c14'},\n",
              "  'HTTPStatusCode': 200,\n",
              "  'RequestId': 'a0b6dfcf-e584-4942-8bb0-24afe0fe8c14',\n",
              "  'RetryAttempts': 0}}"
            ]
          },
          "metadata": {
            "tags": []
          },
          "execution_count": 10
        }
      ]
    },
    {
      "cell_type": "code",
      "metadata": {
        "id": "YXtS2N5TkP1j"
      },
      "source": [
        "response2 = client.stop_stream_processor(Name='StreamProcessor1')"
      ],
      "execution_count": null,
      "outputs": []
    },
    {
      "cell_type": "code",
      "metadata": {
        "id": "0zG2AQcMnDqE",
        "outputId": "b6ecaa28-5da5-4f10-9ae5-e4f7b24f36e1",
        "colab": {
          "base_uri": "https://localhost:8080/"
        }
      },
      "source": [
        "print(response2)"
      ],
      "execution_count": null,
      "outputs": [
        {
          "output_type": "stream",
          "text": [
            "{'ResponseMetadata': {'RequestId': 'c6cfdb3c-c6bf-4748-b2a5-62d61b09506d', 'HTTPStatusCode': 200, 'HTTPHeaders': {'content-type': 'application/x-amz-json-1.1', 'date': 'Wed, 04 Nov 2020 00:15:53 GMT', 'x-amzn-requestid': 'c6cfdb3c-c6bf-4748-b2a5-62d61b09506d', 'content-length': '2', 'connection': 'keep-alive'}, 'RetryAttempts': 0}}\n"
          ],
          "name": "stdout"
        }
      ]
    },
    {
      "cell_type": "code",
      "metadata": {
        "id": "stbjytTlsmZg",
        "outputId": "835297c5-bf22-4c75-d28f-32530312cac5",
        "colab": {
          "base_uri": "https://localhost:8080/"
        }
      },
      "source": [
        "client.describe_stream_processor(Name=\"StreamProcessor1\")"
      ],
      "execution_count": null,
      "outputs": [
        {
          "output_type": "execute_result",
          "data": {
            "text/plain": [
              "{'CreationTimestamp': datetime.datetime(2020, 11, 3, 23, 39, 48, 636000, tzinfo=tzlocal()),\n",
              " 'Input': {'KinesisVideoStream': {'Arn': 'arn:aws:kinesisvideo:us-east-1:673982206489:stream/KVS1/1604251387620'}},\n",
              " 'LastUpdateTimestamp': datetime.datetime(2020, 11, 4, 0, 15, 53, 525000, tzinfo=tzlocal()),\n",
              " 'Name': 'StreamProcessor1',\n",
              " 'Output': {'KinesisDataStream': {'Arn': 'arn:aws:kinesis:us-east-1:673982206489:stream/KDS1'}},\n",
              " 'ResponseMetadata': {'HTTPHeaders': {'connection': 'keep-alive',\n",
              "   'content-length': '562',\n",
              "   'content-type': 'application/x-amz-json-1.1',\n",
              "   'date': 'Wed, 04 Nov 2020 00:40:55 GMT',\n",
              "   'x-amzn-requestid': '6fb5c5e9-aef3-4cd1-bc90-0d595212fb78'},\n",
              "  'HTTPStatusCode': 200,\n",
              "  'RequestId': '6fb5c5e9-aef3-4cd1-bc90-0d595212fb78',\n",
              "  'RetryAttempts': 0},\n",
              " 'RoleArn': 'arn:aws:iam::673982206489:role/Rekognition',\n",
              " 'Settings': {'FaceSearch': {'CollectionId': 'collection1',\n",
              "   'FaceMatchThreshold': 80.0}},\n",
              " 'Status': 'STOPPED',\n",
              " 'StreamProcessorArn': 'arn:aws:rekognition:us-east-1:673982206489:streamprocessor/StreamProcessor1'}"
            ]
          },
          "metadata": {
            "tags": []
          },
          "execution_count": 14
        }
      ]
    }
  ]
}