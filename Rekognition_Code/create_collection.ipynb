{
  "nbformat": 4,
  "nbformat_minor": 0,
  "metadata": {
    "colab": {
      "name": "create_collection.ipynb",
      "provenance": []
    },
    "kernelspec": {
      "name": "python3",
      "display_name": "Python 3"
    }
  },
  "cells": [
    {
      "cell_type": "code",
      "metadata": {
        "id": "Oa6AgpupcK5V",
        "outputId": "43470189-5f20-483f-9142-f8ceca3b7f2d",
        "colab": {
          "base_uri": "https://localhost:8080/"
        }
      },
      "source": [
        "!pip install boto3\n",
        "import boto3"
      ],
      "execution_count": null,
      "outputs": [
        {
          "output_type": "stream",
          "text": [
            "Collecting boto3\n",
            "\u001b[?25l  Downloading https://files.pythonhosted.org/packages/77/69/a6e0987f4cc6aa6519c2f3db1916aeb4891bd326ed8688319d98ff009f93/boto3-1.16.10-py2.py3-none-any.whl (129kB)\n",
            "\u001b[K     |████████████████████████████████| 133kB 3.4MB/s \n",
            "\u001b[?25hCollecting botocore<1.20.0,>=1.19.10\n",
            "\u001b[?25l  Downloading https://files.pythonhosted.org/packages/50/11/765dce0f69eb6f6db6a189e1848f553575a0189b24bd059eaa24fd9e003d/botocore-1.19.10-py2.py3-none-any.whl (6.7MB)\n",
            "\u001b[K     |████████████████████████████████| 6.7MB 10.1MB/s \n",
            "\u001b[?25hCollecting s3transfer<0.4.0,>=0.3.0\n",
            "\u001b[?25l  Downloading https://files.pythonhosted.org/packages/69/79/e6afb3d8b0b4e96cefbdc690f741d7dd24547ff1f94240c997a26fa908d3/s3transfer-0.3.3-py2.py3-none-any.whl (69kB)\n",
            "\u001b[K     |████████████████████████████████| 71kB 7.4MB/s \n",
            "\u001b[?25hCollecting jmespath<1.0.0,>=0.7.1\n",
            "  Downloading https://files.pythonhosted.org/packages/07/cb/5f001272b6faeb23c1c9e0acc04d48eaaf5c862c17709d20e3469c6e0139/jmespath-0.10.0-py2.py3-none-any.whl\n",
            "Collecting urllib3<1.26,>=1.25.4; python_version != \"3.4\"\n",
            "\u001b[?25l  Downloading https://files.pythonhosted.org/packages/56/aa/4ef5aa67a9a62505db124a5cb5262332d1d4153462eb8fd89c9fa41e5d92/urllib3-1.25.11-py2.py3-none-any.whl (127kB)\n",
            "\u001b[K     |████████████████████████████████| 133kB 47.7MB/s \n",
            "\u001b[?25hRequirement already satisfied: python-dateutil<3.0.0,>=2.1 in /usr/local/lib/python3.6/dist-packages (from botocore<1.20.0,>=1.19.10->boto3) (2.8.1)\n",
            "Requirement already satisfied: six>=1.5 in /usr/local/lib/python3.6/dist-packages (from python-dateutil<3.0.0,>=2.1->botocore<1.20.0,>=1.19.10->boto3) (1.15.0)\n",
            "\u001b[31mERROR: datascience 0.10.6 has requirement folium==0.2.1, but you'll have folium 0.8.3 which is incompatible.\u001b[0m\n",
            "Installing collected packages: urllib3, jmespath, botocore, s3transfer, boto3\n",
            "  Found existing installation: urllib3 1.24.3\n",
            "    Uninstalling urllib3-1.24.3:\n",
            "      Successfully uninstalled urllib3-1.24.3\n",
            "Successfully installed boto3-1.16.10 botocore-1.19.10 jmespath-0.10.0 s3transfer-0.3.3 urllib3-1.25.11\n"
          ],
          "name": "stdout"
        }
      ]
    },
    {
      "cell_type": "code",
      "metadata": {
        "id": "GYygO_Uoc3tJ"
      },
      "source": [
        "aws_access_key_id = \"\"\n",
        "aws_secret_access_key = \"\""
      ],
      "execution_count": null,
      "outputs": []
    },
    {
      "cell_type": "code",
      "metadata": {
        "id": "WbQBlv6ZcPvN"
      },
      "source": [
        "client = boto3.client('rekognition', region_name='us-east-1',\n",
        "\t      aws_access_key_id = aws_access_key_id,\n",
        "\t      aws_secret_access_key = aws_secret_access_key)"
      ],
      "execution_count": null,
      "outputs": []
    },
    {
      "cell_type": "code",
      "metadata": {
        "id": "20n8LqFKclIg"
      },
      "source": [
        "def create_collection(collection_id):\n",
        "    response=client.create_collection(CollectionId=collection_id)\n",
        "    print('Collection ARN: ' + response['CollectionArn'])\n",
        "    print('Status code: ' + str(response['StatusCode']))"
      ],
      "execution_count": null,
      "outputs": []
    },
    {
      "cell_type": "code",
      "metadata": {
        "id": "wlXbD-4XdJlu",
        "outputId": "37cdf059-4e71-48a6-f1d7-d9539a5d173b",
        "colab": {
          "base_uri": "https://localhost:8080/"
        }
      },
      "source": [
        "# Creating Rekognition collection\n",
        "create_collection(\"collection1\")"
      ],
      "execution_count": null,
      "outputs": [
        {
          "output_type": "stream",
          "text": [
            "Collection ARN: aws:rekognition:us-east-1:673982206489:collection/collection1\n",
            "Status code: 200\n"
          ],
          "name": "stdout"
        }
      ]
    },
    {
      "cell_type": "code",
      "metadata": {
        "id": "K7yHGaX-dOcU",
        "outputId": "da92d367-4e52-4508-de04-4ea7fe913a43",
        "colab": {
          "base_uri": "https://localhost:8080/"
        }
      },
      "source": [
        "response=client.list_collections()\n",
        "collection=response['CollectionIds']\n",
        "print(collection)"
      ],
      "execution_count": null,
      "outputs": [
        {
          "output_type": "stream",
          "text": [
            "['collection1']\n"
          ],
          "name": "stdout"
        }
      ]
    },
    {
      "cell_type": "code",
      "metadata": {
        "id": "oEzxdismhPi-"
      },
      "source": [
        "def add_faces_to_collection(client,bucket,photo,collection_id):\n",
        "  response=client.index_faces(CollectionId=collection_id,\n",
        "                              Image={'S3Object':{'Bucket':bucket,'Name':photo}},\n",
        "                              ExternalImageId=photo,\n",
        "                              MaxFaces=1,\n",
        "                              QualityFilter=\"AUTO\",\n",
        "                              DetectionAttributes=['ALL'])\n",
        "\n",
        "  print ('Results for ' + photo) \t\n",
        "  print('Faces indexed:')\t\t\t\t\t\t\n",
        "  for faceRecord in response['FaceRecords']:\n",
        "        print('  Face ID: ' + faceRecord['Face']['FaceId'])\n",
        "        print('  Location: {}'.format(faceRecord['Face']['BoundingBox']))\n",
        "\n",
        "  print('Faces not indexed:')\n",
        "  for unindexedFace in response['UnindexedFaces']:\n",
        "      print(' Location: {}'.format(unindexedFace['FaceDetail']['BoundingBox']))\n",
        "      print(' Reasons:')\n",
        "      for reason in unindexedFace['Reasons']:\n",
        "          print('   ' + reason)\n",
        "  return len(response['FaceRecords'])"
      ],
      "execution_count": null,
      "outputs": []
    },
    {
      "cell_type": "code",
      "metadata": {
        "id": "KMGROOzghojq",
        "outputId": "b2f7b39e-3e1f-41da-caca-8d56fe8a34da",
        "colab": {
          "base_uri": "https://localhost:8080/"
        }
      },
      "source": [
        "# Adding photos to Rekognition collection\n",
        "bucket=\"owner-photos\"\n",
        "collection_id=\"collection1\"\n",
        "photo=\"Vishaal.jpg\"\n",
        "indexed_faces_count=add_faces_to_collection(client,bucket, photo, collection_id)\n",
        "print(\"Faces indexed count: \" + str(indexed_faces_count))"
      ],
      "execution_count": null,
      "outputs": [
        {
          "output_type": "stream",
          "text": [
            "Results for Vishaal.jpg\n",
            "Faces indexed:\n",
            "  Face ID: 203cbffd-d693-47a5-8f65-df39cc897b16\n",
            "  Location: {'Width': 0.3766229450702667, 'Height': 0.38199958205223083, 'Left': 0.3280787169933319, 'Top': 0.20352250337600708}\n",
            "Faces not indexed:\n",
            "Faces indexed count: 1\n"
          ],
          "name": "stdout"
        }
      ]
    },
    {
      "cell_type": "code",
      "metadata": {
        "id": "i7CNgk2OjGIH",
        "outputId": "10d2641f-f389-44a6-b4cb-9741f974200f",
        "colab": {
          "base_uri": "https://localhost:8080/"
        }
      },
      "source": [
        "# Listing photos from Rekognition collection\n",
        "response=client.list_faces(CollectionId=collection_id)\n",
        "faces = response['Faces']\n",
        "for face in faces:\n",
        "  print(face)"
      ],
      "execution_count": null,
      "outputs": [
        {
          "output_type": "stream",
          "text": [
            "{'FaceId': '203cbffd-d693-47a5-8f65-df39cc897b16', 'BoundingBox': {'Width': 0.3766230046749115, 'Height': 0.38199999928474426, 'Left': 0.3280789852142334, 'Top': 0.20352299511432648}, 'ImageId': '8d840a8e-b8be-32e6-96cd-0ff86c57fad5', 'ExternalImageId': 'Vishaal.jpg', 'Confidence': 99.9802017211914}\n",
            "{'FaceId': '35130516-5024-4ce8-8d53-21b231765e61', 'BoundingBox': {'Width': 0.10501500219106674, 'Height': 0.13894200325012207, 'Left': 0.46958601474761963, 'Top': 0.22103799879550934}, 'ImageId': '2a7e3daf-decc-354b-b33f-0c9f4c0828fb', 'ExternalImageId': 'Aditya_photo.jpeg', 'Confidence': 99.99930572509766}\n"
          ],
          "name": "stdout"
        }
      ]
    }
  ]
}